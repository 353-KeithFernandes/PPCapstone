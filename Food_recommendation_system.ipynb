{
 "cells": [
  {
   "cell_type": "code",
   "execution_count": null,
   "id": "cb5b7333",
   "metadata": {},
   "outputs": [],
   "source": [
    " # Suppresses warnings for cleaner output.\n",
    "import warnings\n",
    "warnings.filterwarnings('ignore')"
   ]
  },
  {
   "cell_type": "code",
   "execution_count": 2,
   "id": "9080e734-0c11-45e7-b4ac-64d2109375af",
   "metadata": {},
   "outputs": [],
   "source": [
    "import pandas as pd\n",
    "\n",
    "# Load datasets from CSV files.\n",
    "recipes = pd.read_csv(\"recipes.csv\")\n",
    "ratings = pd.read_csv(\"interactions.csv\")"
   ]
  },
  {
   "cell_type": "code",
   "execution_count": 3,
   "id": "3e583721",
   "metadata": {},
   "outputs": [
    {
     "name": "stdout",
     "output_type": "stream",
     "text": [
      "Index(['name', 'id', 'minutes', 'contributor_id', 'submitted', 'tags',\n",
      "       'nutrition', 'n_steps', 'steps', 'description', 'ingredients',\n",
      "       'n_ingredients'],\n",
      "      dtype='object')\n",
      "Index(['user_id', 'recipe_id', 'date', 'rating', 'review'], dtype='object')\n"
     ]
    }
   ],
   "source": [
    "# Print columns of both datasets for inspection.\n",
    "print(recipes.columns)\n",
    "print(ratings.columns)"
   ]
  },
  {
   "cell_type": "code",
   "execution_count": 4,
   "id": "c2e60fef",
   "metadata": {},
   "outputs": [
    {
     "data": {
      "text/html": [
       "<div>\n",
       "<style scoped>\n",
       "    .dataframe tbody tr th:only-of-type {\n",
       "        vertical-align: middle;\n",
       "    }\n",
       "\n",
       "    .dataframe tbody tr th {\n",
       "        vertical-align: top;\n",
       "    }\n",
       "\n",
       "    .dataframe thead th {\n",
       "        text-align: right;\n",
       "    }\n",
       "</style>\n",
       "<table border=\"1\" class=\"dataframe\">\n",
       "  <thead>\n",
       "    <tr style=\"text-align: right;\">\n",
       "      <th></th>\n",
       "      <th>user_id</th>\n",
       "      <th>recipe_id</th>\n",
       "      <th>date</th>\n",
       "      <th>rating</th>\n",
       "      <th>review</th>\n",
       "    </tr>\n",
       "  </thead>\n",
       "  <tbody>\n",
       "    <tr>\n",
       "      <th>0</th>\n",
       "      <td>38094</td>\n",
       "      <td>40893</td>\n",
       "      <td>2003-02-17</td>\n",
       "      <td>4</td>\n",
       "      <td>Great with a salad. Cooked on top of stove for...</td>\n",
       "    </tr>\n",
       "    <tr>\n",
       "      <th>1</th>\n",
       "      <td>1293707</td>\n",
       "      <td>40893</td>\n",
       "      <td>2011-12-21</td>\n",
       "      <td>5</td>\n",
       "      <td>So simple, so delicious! Great for chilly fall...</td>\n",
       "    </tr>\n",
       "    <tr>\n",
       "      <th>2</th>\n",
       "      <td>8937</td>\n",
       "      <td>44394</td>\n",
       "      <td>2002-12-01</td>\n",
       "      <td>4</td>\n",
       "      <td>This worked very well and is EASY.  I used not...</td>\n",
       "    </tr>\n",
       "    <tr>\n",
       "      <th>3</th>\n",
       "      <td>126440</td>\n",
       "      <td>85009</td>\n",
       "      <td>2010-02-27</td>\n",
       "      <td>5</td>\n",
       "      <td>I made the Mexican topping and took it to bunk...</td>\n",
       "    </tr>\n",
       "    <tr>\n",
       "      <th>4</th>\n",
       "      <td>57222</td>\n",
       "      <td>85009</td>\n",
       "      <td>2011-10-01</td>\n",
       "      <td>5</td>\n",
       "      <td>Made the cheddar bacon topping, adding a sprin...</td>\n",
       "    </tr>\n",
       "    <tr>\n",
       "      <th>...</th>\n",
       "      <td>...</td>\n",
       "      <td>...</td>\n",
       "      <td>...</td>\n",
       "      <td>...</td>\n",
       "      <td>...</td>\n",
       "    </tr>\n",
       "    <tr>\n",
       "      <th>1132362</th>\n",
       "      <td>116593</td>\n",
       "      <td>72730</td>\n",
       "      <td>2003-12-09</td>\n",
       "      <td>0</td>\n",
       "      <td>Another approach is to start making sauce with...</td>\n",
       "    </tr>\n",
       "    <tr>\n",
       "      <th>1132363</th>\n",
       "      <td>583662</td>\n",
       "      <td>386618</td>\n",
       "      <td>2009-09-29</td>\n",
       "      <td>5</td>\n",
       "      <td>These were so delicious!  My husband and I tru...</td>\n",
       "    </tr>\n",
       "    <tr>\n",
       "      <th>1132364</th>\n",
       "      <td>157126</td>\n",
       "      <td>78003</td>\n",
       "      <td>2008-06-23</td>\n",
       "      <td>5</td>\n",
       "      <td>WOW!  Sometimes I don't take the time to rate ...</td>\n",
       "    </tr>\n",
       "    <tr>\n",
       "      <th>1132365</th>\n",
       "      <td>53932</td>\n",
       "      <td>78003</td>\n",
       "      <td>2009-01-11</td>\n",
       "      <td>4</td>\n",
       "      <td>Very good!  I used regular port as well.  The ...</td>\n",
       "    </tr>\n",
       "    <tr>\n",
       "      <th>1132366</th>\n",
       "      <td>2001868099</td>\n",
       "      <td>78003</td>\n",
       "      <td>2017-12-18</td>\n",
       "      <td>5</td>\n",
       "      <td>I am so glad I googled and found this here. Th...</td>\n",
       "    </tr>\n",
       "  </tbody>\n",
       "</table>\n",
       "<p>1132367 rows × 5 columns</p>\n",
       "</div>"
      ],
      "text/plain": [
       "            user_id  recipe_id        date  rating  \\\n",
       "0             38094      40893  2003-02-17       4   \n",
       "1           1293707      40893  2011-12-21       5   \n",
       "2              8937      44394  2002-12-01       4   \n",
       "3            126440      85009  2010-02-27       5   \n",
       "4             57222      85009  2011-10-01       5   \n",
       "...             ...        ...         ...     ...   \n",
       "1132362      116593      72730  2003-12-09       0   \n",
       "1132363      583662     386618  2009-09-29       5   \n",
       "1132364      157126      78003  2008-06-23       5   \n",
       "1132365       53932      78003  2009-01-11       4   \n",
       "1132366  2001868099      78003  2017-12-18       5   \n",
       "\n",
       "                                                    review  \n",
       "0        Great with a salad. Cooked on top of stove for...  \n",
       "1        So simple, so delicious! Great for chilly fall...  \n",
       "2        This worked very well and is EASY.  I used not...  \n",
       "3        I made the Mexican topping and took it to bunk...  \n",
       "4        Made the cheddar bacon topping, adding a sprin...  \n",
       "...                                                    ...  \n",
       "1132362  Another approach is to start making sauce with...  \n",
       "1132363  These were so delicious!  My husband and I tru...  \n",
       "1132364  WOW!  Sometimes I don't take the time to rate ...  \n",
       "1132365  Very good!  I used regular port as well.  The ...  \n",
       "1132366  I am so glad I googled and found this here. Th...  \n",
       "\n",
       "[1132367 rows x 5 columns]"
      ]
     },
     "execution_count": 4,
     "metadata": {},
     "output_type": "execute_result"
    }
   ],
   "source": [
    "# Checking the ratings DataFrame.\n",
    "ratings"
   ]
  },
  {
   "cell_type": "code",
   "execution_count": 5,
   "id": "643d25dd",
   "metadata": {},
   "outputs": [
    {
     "data": {
      "text/plain": [
       "user_id      60847\n",
       "recipe_id    60847\n",
       "date         60847\n",
       "rating       60847\n",
       "review       60847\n",
       "dtype: int64"
      ]
     },
     "execution_count": 5,
     "metadata": {},
     "output_type": "execute_result"
    }
   ],
   "source": [
    "# Count how many ratings are zero and display the count.\n",
    "count_zero_ratings = ratings[ratings['rating'] == 0].count()\n",
    "count_zero_ratings"
   ]
  },
  {
   "cell_type": "code",
   "execution_count": 6,
   "id": "7100150e",
   "metadata": {},
   "outputs": [],
   "source": [
    "# Remove entries where ratings are zero as they might not be useful for recommendation.\n",
    "ratings.drop(ratings[ratings['rating'] == 0].index, inplace=True)"
   ]
  },
  {
   "cell_type": "code",
   "execution_count": 7,
   "id": "87d363ce",
   "metadata": {},
   "outputs": [
    {
     "data": {
      "text/plain": [
       "user_id      0\n",
       "recipe_id    0\n",
       "date         0\n",
       "rating       0\n",
       "review       0\n",
       "dtype: int64"
      ]
     },
     "execution_count": 7,
     "metadata": {},
     "output_type": "execute_result"
    }
   ],
   "source": [
    "# Check again to ensure no zero ratings exist.\n",
    "count_zero_ratings = ratings[ratings['rating'] == 0].count()\n",
    "count_zero_ratings"
   ]
  },
  {
   "cell_type": "code",
   "execution_count": 8,
   "id": "0b5de3fb",
   "metadata": {
    "scrolled": true
   },
   "outputs": [
    {
     "name": "stdout",
     "output_type": "stream",
     "text": [
      "name                 1\n",
      "id                   0\n",
      "minutes              0\n",
      "contributor_id       0\n",
      "submitted            0\n",
      "tags                 0\n",
      "nutrition            0\n",
      "n_steps              0\n",
      "steps                0\n",
      "description       4979\n",
      "ingredients          0\n",
      "n_ingredients        0\n",
      "dtype: int64\n",
      "user_id        0\n",
      "recipe_id      0\n",
      "date           0\n",
      "rating         0\n",
      "review       169\n",
      "dtype: int64\n"
     ]
    }
   ],
   "source": [
    "# Check for and display any missing values across columns.\n",
    "print(recipes.isnull().sum())\n",
    "print(ratings.isnull().sum())"
   ]
  },
  {
   "cell_type": "code",
   "execution_count": 9,
   "id": "4dffb3e6",
   "metadata": {},
   "outputs": [],
   "source": [
    "# Drop rows with any missing values in the DataFrames.\n",
    "# The column description won't be relevant so we won't be dropping those roles.\n",
    "ratings.dropna(inplace=True)\n",
    "recipes.dropna(subset=['name'], inplace=True)\n",
    "\n",
    "recipe_no_description = \"Description not available\"\n",
    "recipes['description'].fillna(recipe_no_description, inplace=True)"
   ]
  },
  {
   "cell_type": "code",
   "execution_count": 10,
   "id": "bad0e4d8",
   "metadata": {},
   "outputs": [],
   "source": [
    "# Create new DataFrames with essential columns for further analysis.\n",
    "recipes_df = recipes[['name', 'id', 'ingredients']]\n",
    "ratings_df = ratings[['user_id', 'recipe_id', 'rating']]"
   ]
  },
  {
   "cell_type": "code",
   "execution_count": 11,
   "id": "810f5014",
   "metadata": {},
   "outputs": [],
   "source": [
    "# Rename 'id' column to 'recipe_id' to maintain consistency across DataFrames\n",
    "recipes_df.rename(columns={'id': 'recipe_id'}, inplace=True)"
   ]
  },
  {
   "cell_type": "code",
   "execution_count": 12,
   "id": "d5116060",
   "metadata": {},
   "outputs": [],
   "source": [
    "# Save the new datasets to new CSV files\n",
    "recipes_df.to_csv('recipes_df.csv', index=False)\n",
    "ratings_df.to_csv('ratings_df.csv', index=False)"
   ]
  },
  {
   "cell_type": "code",
   "execution_count": 13,
   "id": "f0cc22c6",
   "metadata": {},
   "outputs": [
    {
     "name": "stdout",
     "output_type": "stream",
     "text": [
      "Index(['name', 'recipe_id', 'ingredients'], dtype='object')\n",
      "Index(['user_id', 'recipe_id', 'rating'], dtype='object')\n"
     ]
    }
   ],
   "source": [
    "# Print columns of the modified recipes DataFrame to confirm changes.\n",
    "print(recipes_df.columns)\n",
    "print(ratings_df.columns)"
   ]
  },
  {
   "cell_type": "code",
   "execution_count": 14,
   "id": "f4abf7f3",
   "metadata": {},
   "outputs": [
    {
     "name": "stdout",
     "output_type": "stream",
     "text": [
      "Empty DataFrame\n",
      "Columns: [name, recipe_id, ingredients]\n",
      "Index: []\n",
      "Empty DataFrame\n",
      "Columns: [user_id, recipe_id, rating]\n",
      "Index: []\n"
     ]
    }
   ],
   "source": [
    "# Check for duplicates\n",
    "duplicates = recipes_df[recipes_df.duplicated()]\n",
    "print(duplicates)\n",
    "duplicates_ratings = ratings_df[ratings_df.duplicated()]\n",
    "print(duplicates_ratings)"
   ]
  },
  {
   "cell_type": "code",
   "execution_count": 15,
   "id": "88ee5fb1",
   "metadata": {},
   "outputs": [],
   "source": [
    "# Calculate the average rating for each recipe\n",
    "average_ratings = ratings_df.groupby('recipe_id')['rating'].mean().reset_index()\n",
    "average_ratings.columns = ['recipe_id', 'average_rating']\n",
    "\n",
    "# Merge the average ratings with the recipes DataFrame\n",
    "recipes_df = pd.merge(recipes_df, average_ratings, on='recipe_id', how='left')"
   ]
  },
  {
   "cell_type": "code",
   "execution_count": 17,
   "id": "af55d0a6-bd47-46bf-8f88-e221030045e4",
   "metadata": {},
   "outputs": [],
   "source": [
    "# Handle missing values in average_rating by filling with the mean rating\n",
    "recipes_df['average_rating'].fillna(recipes_df['average_rating'].mean(), inplace=True)"
   ]
  },
  {
   "cell_type": "code",
   "execution_count": 18,
   "id": "375a08ac-b70e-47c7-9e33-d6d610d73659",
   "metadata": {},
   "outputs": [
    {
     "data": {
      "text/plain": [
       "name              0\n",
       "recipe_id         0\n",
       "ingredients       0\n",
       "average_rating    0\n",
       "clean_name        0\n",
       "dtype: int64"
      ]
     },
     "execution_count": 18,
     "metadata": {},
     "output_type": "execute_result"
    }
   ],
   "source": [
    "import re\n",
    "\n",
    "# Compile regex pattern to improve performance in cleaning names.\n",
    "pattern = re.compile(\"[^a-zA-Z0-9 ]+\")\n",
    "\n",
    "def clean_name(name):\n",
    "    if isinstance(name, str):\n",
    "        # Convert to lowercase\n",
    "        name = name.lower()\n",
    "        # Remove special characters\n",
    "        name = pattern.sub(\"\", name)\n",
    "        # Remove leading/trailing spaces\n",
    "        name = name.strip()\n",
    "    return name\n",
    "\n",
    "# Apply the cleaning function to recipe names.\n",
    "recipes_df[\"clean_name\"] = recipes_df[\"name\"].apply(clean_name)\n",
    "recipes_df.isnull().sum()"
   ]
  },
  {
   "cell_type": "code",
   "execution_count": 19,
   "id": "7ddde948",
   "metadata": {},
   "outputs": [],
   "source": [
    "# Import necessary libraries for text processing and similarity calculations\n",
    "from sklearn.feature_extraction.text import TfidfVectorizer\n",
    "from sklearn.metrics.pairwise import cosine_similarity\n",
    "import numpy as np\n",
    "\n",
    "# Initialize the TfidfVectorizer object with ngram_range set to (1,2).\n",
    "# This setup makes the vectorizer consider single words and pairs of words.\n",
    "vectorizer = TfidfVectorizer(ngram_range=(1,2))\n",
    "\n",
    "# Generate the TF-IDF matrix for the cleaned names of recipes.\n",
    "# This matrix helps in quantifying the importance of words \n",
    "# based on their occurrence frequency across the data\n",
    "tfidf = vectorizer.fit_transform(recipes_df[\"clean_name\"])"
   ]
  },
  {
   "cell_type": "code",
   "execution_count": 20,
   "id": "9a5cd234",
   "metadata": {},
   "outputs": [],
   "source": [
    "# Function to find recipes similar to the user's search query based on text content\n",
    "def find_similar_recipes_by_text(search_text, based_on='ingredients', top_results=5):\n",
    "    # Initialize a TF-IDF vectorizer with specified token patterns\n",
    "    tfidf_vectorizer = TfidfVectorizer(token_pattern=r\"(?u)\\b\\w+\\b\", ngram_range=(1, 2))\n",
    "    \n",
    "    # Determine whether to compare based on the 'name' or 'ingredients' of recipes\n",
    "    data_to_compare = recipes_df['clean_name'] if based_on == 'name' else recipes_df['ingredients']\n",
    "    # Transform the data into a TF-IDF matrix\n",
    "    tfidf_matrix = tfidf_vectorizer.fit_transform(data_to_compare)\n",
    "    # Transform the search query into a TF-IDF vector\n",
    "    search_tfidf = tfidf_vectorizer.transform([search_text])\n",
    "    \n",
    "    # Compute cosine similarity between the search query vector and all recipe vectors\n",
    "    cosine_similarities = cosine_similarity(search_tfidf, tfidf_matrix).flatten()\n",
    "    \n",
    "    # Create a DataFrame for results\n",
    "    results_df = pd.DataFrame({\n",
    "        'recipe_id': recipes_df['recipe_id'],\n",
    "        'name': recipes_df['name'],\n",
    "        'ingredients': recipes_df['ingredients'],\n",
    "        'average_rating': recipes_df['average_rating'],\n",
    "        'similarity': cosine_similarities\n",
    "    })\n",
    "    \n",
    "    # Score recipes based on similarity and ratings\n",
    "    results_df['score'] = results_df['similarity'] + (results_df['average_rating'] / results_df['average_rating'].max() * 0.5)\n",
    "    \n",
    "    # Sort and filter results by the combined score, and select the top results\n",
    "    results_df = results_df.sort_values('score', ascending=False).head(top_results)\n",
    "    return results_df\n"
   ]
  },
  {
   "cell_type": "code",
   "execution_count": 21,
   "id": "a7271b4c",
   "metadata": {},
   "outputs": [],
   "source": [
    "import ipywidgets as widgets\n",
    "from IPython.display import display\n",
    "\n",
    "# Setup interactive widgets for the user interface\n",
    "recipe_name_input = widgets.Text(\n",
    "    value='',\n",
    "    placeholder='Type a recipe name',\n",
    "    description='Recipe:',\n",
    "    disabled=False\n",
    ")\n",
    "\n",
    "similarity_basis_input = widgets.Dropdown(\n",
    "    options=['name', 'ingredients'],\n",
    "    value='ingredients',\n",
    "    description='Based on:',\n",
    "    disabled=False\n",
    ")\n",
    "\n",
    "recommendation_list = widgets.Output()"
   ]
  },
  {
   "cell_type": "code",
   "execution_count": 22,
   "id": "f7238846",
   "metadata": {},
   "outputs": [
    {
     "data": {
      "application/vnd.jupyter.widget-view+json": {
       "model_id": "781a83ce487943d491f54045d04459f3",
       "version_major": 2,
       "version_minor": 0
      },
      "text/plain": [
       "Text(value='', description='Recipe:', placeholder='Type a recipe name')"
      ]
     },
     "metadata": {},
     "output_type": "display_data"
    },
    {
     "data": {
      "application/vnd.jupyter.widget-view+json": {
       "model_id": "bc8d5d2277d541438e5b3a8c3919bbd4",
       "version_major": 2,
       "version_minor": 0
      },
      "text/plain": [
       "Dropdown(description='Based on:', index=1, options=('name', 'ingredients'), value='ingredients')"
      ]
     },
     "metadata": {},
     "output_type": "display_data"
    },
    {
     "data": {
      "application/vnd.jupyter.widget-view+json": {
       "model_id": "f05876490ee9417388aad5ca377922e1",
       "version_major": 2,
       "version_minor": 0
      },
      "text/plain": [
       "Output()"
      ]
     },
     "metadata": {},
     "output_type": "display_data"
    }
   ],
   "source": [
    "# Function to handle changes in the text input widget\n",
    "# It triggers when user types text\n",
    "def on_type(change):\n",
    "    with recommendation_list:\n",
    "        # Clear previous results\n",
    "        recommendation_list.clear_output()\n",
    "        # Retrieve the new text input\n",
    "        name = change[\"new\"]\n",
    "        # Trigger search when user has typed at least 4 characters \n",
    "        if len(name) >= 4:\n",
    "            # Find similar recipes based on the current value in the similarity basis dropdown\n",
    "            similar_recipes = find_similar_recipes_by_text(name, based_on=similarity_basis_input.value)\n",
    "            # Display the results if not empty\n",
    "            if not similar_recipes.empty:\n",
    "                display(similar_recipes)\n",
    "            else:\n",
    "                print(\"No similar recipes found.\")\n",
    "                \n",
    "# Checks changes in the text input widget\n",
    "recipe_name_input.observe(on_type, names='value')\n",
    "\n",
    "# Display widgets and the output container\n",
    "display(recipe_name_input, similarity_basis_input, recommendation_list)\n"
   ]
  },
  {
   "cell_type": "code",
   "execution_count": null,
   "id": "bc335254",
   "metadata": {},
   "outputs": [],
   "source": []
  }
 ],
 "metadata": {
  "kernelspec": {
   "display_name": "Python 3 (ipykernel)",
   "language": "python",
   "name": "python3"
  },
  "language_info": {
   "codemirror_mode": {
    "name": "ipython",
    "version": 3
   },
   "file_extension": ".py",
   "mimetype": "text/x-python",
   "name": "python",
   "nbconvert_exporter": "python",
   "pygments_lexer": "ipython3",
   "version": "3.9.19"
  }
 },
 "nbformat": 4,
 "nbformat_minor": 5
}
